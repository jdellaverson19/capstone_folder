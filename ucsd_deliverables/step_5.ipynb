{
 "cells": [
  {
   "cell_type": "markdown",
   "metadata": {},
   "source": [
    "Here's a snippet of code to pull data from yfinance and clean it"
   ]
  },
  {
   "cell_type": "code",
   "execution_count": 1,
   "metadata": {},
   "outputs": [
    {
     "name": "stderr",
     "output_type": "stream",
     "text": [
      "[*********************100%%**********************]  1 of 1 completed"
     ]
    },
    {
     "name": "stdout",
     "output_type": "stream",
     "text": [
      "                Open      High       Low     Close  Adj Close     Volume\n",
      "Date                                                                    \n",
      "2010-01-04  7.622500  7.660714  7.585000  7.643214   6.461977  493729600\n",
      "2010-01-05  7.664286  7.699643  7.616071  7.656429   6.473149  601904800\n",
      "2010-01-06  7.656429  7.686786  7.526786  7.534643   6.370185  552160000\n",
      "2010-01-07  7.562500  7.571429  7.466071  7.520714   6.358408  477131200\n",
      "2010-01-08  7.510714  7.571429  7.466429  7.570714   6.400682  447610800\n"
     ]
    },
    {
     "name": "stderr",
     "output_type": "stream",
     "text": [
      "\n",
      "C:\\Users\\Hunter\\AppData\\Local\\Temp\\ipykernel_16600\\770825687.py:14: FutureWarning: DataFrame.fillna with 'method' is deprecated and will raise in a future version. Use obj.ffill() or obj.bfill() instead.\n",
      "  data.fillna(method='ffill', inplace=True)  # Forward fill\n",
      "C:\\Users\\Hunter\\AppData\\Local\\Temp\\ipykernel_16600\\770825687.py:15: FutureWarning: DataFrame.fillna with 'method' is deprecated and will raise in a future version. Use obj.ffill() or obj.bfill() instead.\n",
      "  data.fillna(method='bfill', inplace=True)  # Backward fill if any NaN remain\n"
     ]
    }
   ],
   "source": [
    "import yfinance as yf\n",
    "import pandas as pd\n",
    "\n",
    "def get_and_clean_data(ticker):\n",
    "    try:\n",
    "        # Download stock data\n",
    "        data = yf.download(ticker, start=\"2010-01-01\", end=\"2023-12-31\")\n",
    "        \n",
    "        # Check if the dataframe is empty (happens if the ticker isn't valid or no data available)\n",
    "        if data.empty:\n",
    "            raise ValueError(f\"No data found for ticker '{ticker}'. It might not be traded anymore.\")\n",
    "        \n",
    "        # Fill missing values\n",
    "        data.fillna(method='ffill', inplace=True)  # Forward fill\n",
    "        data.fillna(method='bfill', inplace=True)  # Backward fill if any NaN remain\n",
    "    \n",
    "        # Detect outliers using IQR and cap/floor them\n",
    "        for column in data.columns:\n",
    "            Q1 = data[column].quantile(0.25)\n",
    "            Q3 = data[column].quantile(0.75)\n",
    "            IQR = Q3 - Q1\n",
    "            lower_bound = Q1 - 1.5 * IQR\n",
    "            upper_bound = Q3 + 1.5 * IQR\n",
    "            \n",
    "            # Capping the upper outliers and flooring the lower outliers\n",
    "            data[column] = data[column].clip(lower=lower_bound, upper=upper_bound)\n",
    "\n",
    "        return data\n",
    "    except ValueError as e:\n",
    "        print(e)\n",
    "    except Exception as e:\n",
    "        print(f\"An error occurred: {e}\")\n",
    "\n",
    "# Example usage\n",
    "ticker = 'AAPL'  # Apple Inc.\n",
    "cleaned_data = get_and_clean_data(ticker)\n",
    "if cleaned_data is not None:\n",
    "    print(cleaned_data.head())\n"
   ]
  },
  {
   "cell_type": "markdown",
   "metadata": {},
   "source": [
    "Here's the same approach utilizing the same dataset I provided in my original capstone proposal"
   ]
  },
  {
   "cell_type": "code",
   "execution_count": null,
   "metadata": {},
   "outputs": [],
   "source": [
    "import pandas as pd\n",
    "\n",
    "def load_and_clean_data(file_path):\n",
    "    # Load data from CSV file\n",
    "    data = pd.read_csv(file_path, parse_dates=['Date'], index_col='Date')\n",
    "    \n",
    "    # Check for any missing values and fill them\n",
    "    data.fillna(method='ffill', inplace=True)  # Forward fill\n",
    "    data.fillna(method='bfill', inplace=True)  # Backward fill if any NaN remain\n",
    "    \n",
    "    # Detect outliers using IQR and cap/floor them\n",
    "    for column in data.columns:\n",
    "        Q1 = data[column].quantile(0.25)\n",
    "        Q3 = data[column].quantile(0.75)\n",
    "        IQR = Q3 - Q1\n",
    "        lower_bound = Q1 - 1.5 * IQR\n",
    "        upper_bound = Q3 + 1.5 * IQR\n",
    "        \n",
    "        # Capping the upper outliers and flooring the lower outliers\n",
    "        data[column] = data[column].clip(lower=lower_bound, upper=upper_bound)\n",
    "    \n",
    "    return data\n",
    "\n",
    "file_path = r'C:\\Users\\Hunter\\Documents\\ucsd\\capstone\\threeDatasets\\stockPrediction\\Stocks'  # Modify this path to where your file is stored\n",
    "cleaned_data = load_and_clean_data(file_path)\n",
    "print(cleaned_data.head())\n"
   ]
  }
 ],
 "metadata": {
  "kernelspec": {
   "display_name": "Python 3",
   "language": "python",
   "name": "python3"
  },
  "language_info": {
   "codemirror_mode": {
    "name": "ipython",
    "version": 3
   },
   "file_extension": ".py",
   "mimetype": "text/x-python",
   "name": "python",
   "nbconvert_exporter": "python",
   "pygments_lexer": "ipython3",
   "version": "3.11.9"
  }
 },
 "nbformat": 4,
 "nbformat_minor": 2
}
